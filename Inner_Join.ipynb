{
  "nbformat": 4,
  "nbformat_minor": 0,
  "metadata": {
    "colab": {
      "name": "Inner Join.ipynb",
      "provenance": []
    },
    "kernelspec": {
      "name": "python3",
      "display_name": "Python 3"
    },
    "language_info": {
      "name": "python"
    }
  },
  "cells": [
    {
      "cell_type": "code",
      "metadata": {
        "id": "RIObodReMvS6"
      },
      "source": [
        "#Constrói os dicionários com os dados fornecidos para as bases:\n",
        "\n",
        "consulta = {'cod_benefic' : ['123456','635241','968574'],\n",
        "'cod_servico' : ['101010','101010','101010'],\n",
        "'dat_execucao' : ['02/01/2016','03/01/2016','04/01/2016'],\n",
        "'valor' : [65,65,65]}\n",
        "\n",
        "exame = {'cod_benefic' : ['123456','123456','635241','635241','968574'],\n",
        "'cod_servico' : ['401231','401250','401261','401250','401261'],\n",
        "'dat_execucao' : ['02/01/2016','02/01/2016','03/01/2016','03/01/2016','04/01/2016'],\n",
        "'valor' : [18,10,5,10,5]}"
      ],
      "execution_count": 1,
      "outputs": []
    },
    {
      "cell_type": "code",
      "metadata": {
        "id": "z4vLLRSTMzlY"
      },
      "source": [
        "#import o pacote pandas\n",
        "import pandas as pd\n",
        "\n",
        "# transforma o dicionario em pandas dataframe\n",
        "base_consulta = pd.DataFrame(data=consulta)\n",
        "base_exame = pd.DataFrame(data=exame)\n",
        "\n",
        "#transforma a data do tipo string para datetime\n",
        "base_consulta['dat_execucao'] = pd.to_datetime(base_consulta['dat_execucao'])\n",
        "base_exame['dat_execucao'] = pd.to_datetime(base_exame['dat_execucao'])\n",
        "\n",
        "# pode usar df.dtypes para verificar os tipos das variaveis do seu df(dataframe)\n",
        "# df.head() para mostrar algumas linhas do seu df"
      ],
      "execution_count": 2,
      "outputs": []
    },
    {
      "cell_type": "code",
      "metadata": {
        "colab": {
          "base_uri": "https://localhost:8080/",
          "height": 204
        },
        "id": "yVrJkhZsM5mX",
        "outputId": "19bb4410-591a-455b-8584-e7f3428329e4"
      },
      "source": [
        "#Faz o join das tabelas\n",
        "df3 = pd.merge(base_consulta,base_exame,how='inner', on=['cod_benefic','dat_execucao'],suffixes=('_t1', '_t2'))\n",
        "\n",
        "#Mostra as primeiras linhas\n",
        "df3.head()"
      ],
      "execution_count": 4,
      "outputs": [
        {
          "output_type": "execute_result",
          "data": {
            "text/html": [
              "<div>\n",
              "<style scoped>\n",
              "    .dataframe tbody tr th:only-of-type {\n",
              "        vertical-align: middle;\n",
              "    }\n",
              "\n",
              "    .dataframe tbody tr th {\n",
              "        vertical-align: top;\n",
              "    }\n",
              "\n",
              "    .dataframe thead th {\n",
              "        text-align: right;\n",
              "    }\n",
              "</style>\n",
              "<table border=\"1\" class=\"dataframe\">\n",
              "  <thead>\n",
              "    <tr style=\"text-align: right;\">\n",
              "      <th></th>\n",
              "      <th>cod_benefic</th>\n",
              "      <th>cod_servico_t1</th>\n",
              "      <th>dat_execucao</th>\n",
              "      <th>valor_t1</th>\n",
              "      <th>cod_servico_t2</th>\n",
              "      <th>valor_t2</th>\n",
              "    </tr>\n",
              "  </thead>\n",
              "  <tbody>\n",
              "    <tr>\n",
              "      <th>0</th>\n",
              "      <td>123456</td>\n",
              "      <td>101010</td>\n",
              "      <td>2016-02-01</td>\n",
              "      <td>65</td>\n",
              "      <td>401231</td>\n",
              "      <td>18</td>\n",
              "    </tr>\n",
              "    <tr>\n",
              "      <th>1</th>\n",
              "      <td>123456</td>\n",
              "      <td>101010</td>\n",
              "      <td>2016-02-01</td>\n",
              "      <td>65</td>\n",
              "      <td>401250</td>\n",
              "      <td>10</td>\n",
              "    </tr>\n",
              "    <tr>\n",
              "      <th>2</th>\n",
              "      <td>635241</td>\n",
              "      <td>101010</td>\n",
              "      <td>2016-03-01</td>\n",
              "      <td>65</td>\n",
              "      <td>401261</td>\n",
              "      <td>5</td>\n",
              "    </tr>\n",
              "    <tr>\n",
              "      <th>3</th>\n",
              "      <td>635241</td>\n",
              "      <td>101010</td>\n",
              "      <td>2016-03-01</td>\n",
              "      <td>65</td>\n",
              "      <td>401250</td>\n",
              "      <td>10</td>\n",
              "    </tr>\n",
              "    <tr>\n",
              "      <th>4</th>\n",
              "      <td>968574</td>\n",
              "      <td>101010</td>\n",
              "      <td>2016-04-01</td>\n",
              "      <td>65</td>\n",
              "      <td>401261</td>\n",
              "      <td>5</td>\n",
              "    </tr>\n",
              "  </tbody>\n",
              "</table>\n",
              "</div>"
            ],
            "text/plain": [
              "  cod_benefic cod_servico_t1 dat_execucao  valor_t1 cod_servico_t2  valor_t2\n",
              "0      123456         101010   2016-02-01        65         401231        18\n",
              "1      123456         101010   2016-02-01        65         401250        10\n",
              "2      635241         101010   2016-03-01        65         401261         5\n",
              "3      635241         101010   2016-03-01        65         401250        10\n",
              "4      968574         101010   2016-04-01        65         401261         5"
            ]
          },
          "metadata": {
            "tags": []
          },
          "execution_count": 4
        }
      ]
    }
  ]
}